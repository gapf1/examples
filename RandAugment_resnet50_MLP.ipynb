{
  "nbformat": 4,
  "nbformat_minor": 0,
  "metadata": {
    "colab": {
      "provenance": [],
      "collapsed_sections": [],
      "authorship_tag": "ABX9TyPqs9DnaU8GFH95HSNCbMZi",
      "include_colab_link": true
    },
    "kernelspec": {
      "name": "python3",
      "display_name": "Python 3"
    },
    "language_info": {
      "name": "python"
    }
  },
  "cells": [
    {
      "cell_type": "markdown",
      "metadata": {
        "id": "view-in-github",
        "colab_type": "text"
      },
      "source": [
        "<a href=\"https://colab.research.google.com/github/gapf1/examples/blob/main/RandAugment_resnet50_MLP.ipynb\" target=\"_parent\"><img src=\"https://colab.research.google.com/assets/colab-badge.svg\" alt=\"Open In Colab\"/></a>"
      ]
    },
    {
      "cell_type": "code",
      "execution_count": null,
      "metadata": {
        "id": "up9hIRnnXatH"
      },
      "outputs": [],
      "source": [
        "def mlp(x, sizes, activation=tf.tanh, output_activation=None):\n",
        "    x = tf.keras.layers.Reshape((32,32,3))(x)\n",
        "    x = tf.keras.layers.Resizing(84, 84) (x)\n",
        "    x = tf.keras.layers.SpatialDropout2D(rate  = 0.1)(x)\n",
        "    x = tf.keras.layers.GaussianNoise(stddev   = 0.1)(x)\n",
        "    x = keras_cv.layers.RandAugment(\n",
        "                                value_range=(0, 255),\n",
        "                                augmentations_per_image=3,\n",
        "                                magnitude=0.5,\n",
        "                                magnitude_stddev=0.15,\n",
        "                                rate=10/11,)\n",
        "    x = x_test = rand_augment(x)\n",
        "    x = tf.keras.applications.resnet50.preprocess_input(x)\n",
        "    x = tf.keras.applications.ResNet50(     include_top=False, \n",
        "                                            weights= None,   \n",
        "                                            pooling=\"max\", \n",
        "                                            )(x)\n",
        "    x = tf.keras.layers.Flatten()(x)\n",
        "    for size in sizes[:-1]:\n",
        "        x = layers.Dense(units=size, activation=activation)(x)\n",
        "        x = tf.keras.layers.Dropout(0.5)(x)\n",
        "        x = tf.keras.layers.BatchNormalization()(x)\n",
        "    return layers.Dense(    units=sizes[-1], \n",
        "                            activation=output_activation,\n",
        "                            activity_regularizer= tf.keras.regularizers.l1(l1=0.05)\n",
        "                            )(x)"
      ]
    }
  ]
}