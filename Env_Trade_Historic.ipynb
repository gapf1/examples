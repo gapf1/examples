{
  "nbformat": 4,
  "nbformat_minor": 0,
  "metadata": {
    "colab": {
      "provenance": [],
      "collapsed_sections": [],
      "authorship_tag": "ABX9TyNuH1/ktn/kESqS0307kP53",
      "include_colab_link": true
    },
    "kernelspec": {
      "name": "python3",
      "display_name": "Python 3"
    },
    "language_info": {
      "name": "python"
    }
  },
  "cells": [
    {
      "cell_type": "markdown",
      "metadata": {
        "id": "view-in-github",
        "colab_type": "text"
      },
      "source": [
        "<a href=\"https://colab.research.google.com/github/gapf1/examples/blob/main/Env_Trade_Historic.ipynb\" target=\"_parent\"><img src=\"https://colab.research.google.com/assets/colab-badge.svg\" alt=\"Open In Colab\"/></a>"
      ]
    },
    {
      "cell_type": "code",
      "execution_count": null,
      "metadata": {
        "id": "ALNSjBgjQYD2"
      },
      "outputs": [],
      "source": [
        "from tf_agents.environments import py_environment\n",
        "\n",
        "# Inpirada no texto em  https://www.tensorflow.org/agents/tutorials/2_environments_tutorial#creating_your_own_python_environment \n",
        "\n",
        "class Env_Trade_Historic(py_environment.PyEnvironment):\n",
        "    \n",
        "  def __init__(self):\n",
        "    \n",
        "    self._action_spec = array_spec.BoundedArraySpec(\n",
        "        shape=(1,), dtype=np.int32, minimum=0, maximum=1, name='action')\n",
        "\n",
        "    self.look_back_window = 32\n",
        "    \n",
        "    self._observation_shape = (3072,)\n",
        "    self._observation_spec = array_spec.BoundedArraySpec(\n",
        "        shape=self._observation_shape, dtype=np.float32, name='observation')\n",
        "    \n",
        "    self.open, self.high, self.low, self.close, self.change  = load_data(bars = 8760) # 50000\n",
        "    self._state = np.zeros(self._observation_shape, dtype=np.float32) \n",
        "    self._episode_ended = False\n",
        "    self.bar = 0\n",
        "\n",
        "  def action_spec(self):\n",
        "    return self._action_spec\n",
        "\n",
        "  def observation_spec(self):\n",
        "    return self._observation_spec\n",
        "\n",
        "  def _reset(self):\n",
        "    self._state = np.zeros(self._observation_shape, dtype=np.float32)        #0.0,0.0,0.0,0.0]\n",
        "    self._episode_ended =    False\n",
        "    return ts.restart(np.array(self._state, dtype=np.float32))\n",
        "\n",
        "\n",
        "  def _step(self, action):\n",
        "    \n",
        "    reward = 0\n",
        "\n",
        "    if self._episode_ended:\n",
        "    # The last action ended the episode. Ignore the current action and start\n",
        "    # a new episode.\n",
        "        return self.reset() \n",
        "\n",
        "    self.bar += 1\n",
        "    \n",
        "    if self.bar >= len(self.open)- self.look_back_window:\n",
        "        self.bar=0\n",
        "\n",
        "    self._state =   createImage(  self.open[ self.bar:self.bar+self.look_back_window],\n",
        "                                  self.high[ self.bar:self.bar+self.look_back_window],\n",
        "                                  self.low[  self.bar:self.bar+self.look_back_window],\n",
        "                                  self.close[self.bar:self.bar+self.look_back_window],\n",
        "                                )\n",
        "    X  =  self.change[self.bar:self.bar+self.look_back_window]\n",
        "    \n",
        "    if action == 1:\n",
        "        reward = X[-1] - 4.0  # 4.0 is the spread of the trade\n",
        "    \n",
        "    if self._episode_ended: \n",
        "            return ts.termination(np.array([self._state], dtype=np.int32), reward)\n",
        "    return ts.transition(\n",
        "        np.array([self._state], dtype=np.int32), reward, discount=1.0)"
      ]
    },
    {
      "cell_type": "code",
      "source": [],
      "metadata": {
        "id": "VNxqWesTUSWk"
      },
      "execution_count": null,
      "outputs": []
    }
  ]
}