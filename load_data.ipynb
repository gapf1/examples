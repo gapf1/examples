{
  "nbformat": 4,
  "nbformat_minor": 0,
  "metadata": {
    "colab": {
      "provenance": [],
      "authorship_tag": "ABX9TyNEWBL/tikeGKlVLa1NH+dj",
      "include_colab_link": true
    },
    "kernelspec": {
      "name": "python3",
      "display_name": "Python 3"
    },
    "language_info": {
      "name": "python"
    }
  },
  "cells": [
    {
      "cell_type": "markdown",
      "metadata": {
        "id": "view-in-github",
        "colab_type": "text"
      },
      "source": [
        "<a href=\"https://colab.research.google.com/github/gapf1/examples/blob/main/load_data.ipynb\" target=\"_parent\"><img src=\"https://colab.research.google.com/assets/colab-badge.svg\" alt=\"Open In Colab\"/></a>"
      ]
    },
    {
      "cell_type": "code",
      "execution_count": null,
      "metadata": {
        "id": "lDacf4MU0ClN"
      },
      "outputs": [],
      "source": [
        "def load_data(my_path=\"./Datasets/\", bars = 32):\n",
        "        if not mt5.initialize():\n",
        "            print(\"initialize() failed, error code =\",mt5.last_error())\n",
        "            quit()\n",
        "        if 1==2:\n",
        "            STOCK = os.listdir(my_path)\n",
        "            STOCK_index=0\n",
        "            data = pd.read_csv(os.path.normpath(my_path+STOCK[STOCK_index]),index_col=0,parse_dates=True,infer_datetime_format=True).tail(bars)\n",
        "            #data = resample_timeframe(data, time_frame = '15min')\n",
        "        else: \n",
        "            if not mt5.initialize():\n",
        "                print(\"initialize() failed, error code =\",mt5.last_error())\n",
        "                quit()\n",
        "            data = mt5.copy_rates_from_pos(\"ETHUSD\", mt5.TIMEFRAME_H1, 0, bars)\n",
        "            data = pd.DataFrame(data)\n",
        "            #print(data)\n",
        "            data['time']=pd.to_datetime(data['time'], unit='s')\n",
        "        data['Change']     = (((data['close'].shift(-1)-data['open'].shift(-1)).ffill()))  + 0.0000000001 # 100 *   close / close\n",
        "        data = data.dropna() # .tail(1000) \n",
        "        data['Change'] = np.where(data['Change'] == 0, 0.0000001, data['Change'])\n",
        "        return  [np.array(data[\"open\"].values, dtype=np.float32), \n",
        "                 np.array(data[\"high\"].values, dtype=np.float32),\n",
        "                 np.array(data[\"low\"].values, dtype=np.float32),\n",
        "                 np.array(data[\"close\"].values, dtype=np.float32),\n",
        "                 np.array(data[\"Change\"].values, dtype=np.float32) #.clip(upper= 1.0, lower=-1.0) .clip(upper= 50.0, lower=-50.0).\n",
        "                 ]"
      ]
    }
  ]
}