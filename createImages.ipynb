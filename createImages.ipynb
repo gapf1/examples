{
  "nbformat": 4,
  "nbformat_minor": 0,
  "metadata": {
    "colab": {
      "provenance": [],
      "collapsed_sections": [],
      "authorship_tag": "ABX9TyPPY299s9Lh5PRcPlafMuXX",
      "include_colab_link": true
    },
    "kernelspec": {
      "name": "python3",
      "display_name": "Python 3"
    },
    "language_info": {
      "name": "python"
    }
  },
  "cells": [
    {
      "cell_type": "markdown",
      "metadata": {
        "id": "view-in-github",
        "colab_type": "text"
      },
      "source": [
        "<a href=\"https://colab.research.google.com/github/gapf1/examples/blob/main/createImages.ipynb\" target=\"_parent\"><img src=\"https://colab.research.google.com/assets/colab-badge.svg\" alt=\"Open In Colab\"/></a>"
      ]
    },
    {
      "cell_type": "code",
      "execution_count": null,
      "metadata": {
        "id": "UZjbe7Q2uP3G"
      },
      "outputs": [],
      "source": [
        "def createImage(open, high, low, close): \n",
        "    image_width  = len(close)\n",
        "    image_height = image_width\n",
        "    image = np.zeros((image_height, image_width,3), dtype= np.uint8)\n",
        "    max_val = high.max()\n",
        "    min_val = low.min()\n",
        "    factor = image_height / (max_val + 0.00001 - min_val)\n",
        "    for i in range(len(close)):\n",
        "        if(open[i]<=close[i]):\n",
        "            candle_width = max(int((close[i] - open[i])*factor),1)\n",
        "            start = int((max_val - close[i])*factor)\n",
        "            image[start:start+candle_width,i,0] = 255\n",
        "        else:\n",
        "            candle_width = max(int((open[i] - close[i])*factor),1)\n",
        "            start = int((max_val - open[i])*factor)\n",
        "            image[start:start+candle_width,i,0] = 235\n",
        "        H = int((max_val -high[i])*factor) \n",
        "        image[H:H+1,i,1] = 150 #\n",
        "        L = int((max_val - low[i])*factor) \n",
        "        image[L:L+1,i,2] = 100 #\n",
        "    return image.astype(np.uint8) "
      ]
    }
  ]
}