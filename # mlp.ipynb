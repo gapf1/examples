{
  "nbformat": 4,
  "nbformat_minor": 0,
  "metadata": {
    "colab": {
      "provenance": [],
      "collapsed_sections": [],
      "authorship_tag": "ABX9TyNSCwlDmeM6s2hcUim8kgdb",
      "include_colab_link": true
    },
    "kernelspec": {
      "name": "python3",
      "display_name": "Python 3"
    },
    "language_info": {
      "name": "python"
    }
  },
  "cells": [
    {
      "cell_type": "markdown",
      "metadata": {
        "id": "view-in-github",
        "colab_type": "text"
      },
      "source": [
        "<a href=\"https://colab.research.google.com/github/gapf1/examples/blob/main/%23%20mlp.ipynb\" target=\"_parent\"><img src=\"https://colab.research.google.com/assets/colab-badge.svg\" alt=\"Open In Colab\"/></a>"
      ]
    },
    {
      "cell_type": "code",
      "execution_count": null,
      "metadata": {
        "id": "8QOsizUw1moR"
      },
      "outputs": [],
      "source": [
        "def mlp(x, sizes, activation=tf.tanh, output_activation=None): \n",
        "    x = tf.keras.layers.Reshape((32,32,3))(x)\n",
        "    x = tf.keras.layers.Resizing(84, 84) (x)\n",
        "    x = tf.keras.layers.Rescaling(1.0 / 255)(x)\n",
        "    # Convolutions on the frames on the screen\n",
        "    x = layers.Conv2D(32, 8, strides=4, activation=activation)(x)\n",
        "    x = layers.Conv2D(64, 4, strides=2, activation=activation)(x)\n",
        "    x = layers.Conv2D(64, 3, strides=1, activation=activation)(x)\n",
        "    x = tf.keras.layers.Flatten()(x)\n",
        "    # Dense layers\n",
        "    for size in sizes[:-1]:\n",
        "        x = layers.Dense(units=size, activation=activation)(x)\n",
        "        x = tf.keras.layers.Dropout(0.5)(x)\n",
        "        x = tf.keras.layers.BatchNormalization()(x)\n",
        "    return layers.Dense(    units=sizes[-1], \n",
        "                            activation=output_activation,\n",
        "                            )(x)"
      ]
    }
  ]
}