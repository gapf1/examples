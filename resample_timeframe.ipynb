{
  "nbformat": 4,
  "nbformat_minor": 0,
  "metadata": {
    "colab": {
      "provenance": [],
      "collapsed_sections": [],
      "authorship_tag": "ABX9TyMyR5hM83lOFiqyeWCgG96o",
      "include_colab_link": true
    },
    "kernelspec": {
      "name": "python3",
      "display_name": "Python 3"
    },
    "language_info": {
      "name": "python"
    }
  },
  "cells": [
    {
      "cell_type": "markdown",
      "metadata": {
        "id": "view-in-github",
        "colab_type": "text"
      },
      "source": [
        "<a href=\"https://colab.research.google.com/github/gapf1/examples/blob/main/resample_timeframe.ipynb\" target=\"_parent\"><img src=\"https://colab.research.google.com/assets/colab-badge.svg\" alt=\"Open In Colab\"/></a>"
      ]
    },
    {
      "cell_type": "code",
      "execution_count": null,
      "metadata": {
        "id": "Td5ITWZo5Lcd"
      },
      "outputs": [],
      "source": [
        "import pandas as pd\n",
        "\n",
        "def resample_timeframe(df, time_frame = '30min'):   \n",
        "    # downsampling from 1min to 30min\n",
        "    ohlc = {\n",
        "        'open': 'first',\n",
        "        'high': 'max',\n",
        "        'low': 'min',\n",
        "        'close': 'last',\n",
        "        'volume': 'sum'}\n",
        "    df = df.resample(time_frame).apply(ohlc)\n",
        "    return df"
      ]
    }
  ]
}